{
 "cells": [
  {
   "cell_type": "code",
   "execution_count": 3,
   "metadata": {},
   "outputs": [
    {
     "name": "stdout",
     "output_type": "stream",
     "text": [
      "*\n",
      "**\n",
      "***\n",
      "****\n",
      "*****\n"
     ]
    }
   ],
   "source": [
    "'''\n",
    "n=5\n",
    "*\n",
    "**\n",
    "***\n",
    "****\n",
    "*****\n",
    "\n",
    "'''\n",
    "n=5\n",
    "for i in range(1, n+1):\n",
    "    for j in range(1,i+1):\n",
    "        print(\"*\", end=\"\")\n",
    "    print()"
   ]
  },
  {
   "cell_type": "code",
   "execution_count": 4,
   "metadata": {},
   "outputs": [
    {
     "name": "stdout",
     "output_type": "stream",
     "text": [
      "*\n",
      "\n",
      "***\n",
      "\n",
      "*****\n"
     ]
    }
   ],
   "source": [
    "'''\n",
    "n=5\n",
    "*\n",
    "\n",
    "***\n",
    "\n",
    "*****\n",
    "\n",
    "'''\n",
    "n=5\n",
    "for i in range(1, n+1):\n",
    "    if i%2==1:\n",
    "        for j in range(1,i+1):\n",
    "            print(\"*\", end=\"\")\n",
    "    print()"
   ]
  },
  {
   "cell_type": "code",
   "execution_count": 7,
   "metadata": {},
   "outputs": [
    {
     "name": "stdout",
     "output_type": "stream",
     "text": [
      "*\n",
      "***\n",
      "*****\n"
     ]
    }
   ],
   "source": [
    "'''\n",
    "n=3\n",
    "*\n",
    "***\n",
    "*****\n",
    "'''\n",
    "\n",
    "n=3\n",
    "k=1\n",
    "for i in range(1, n+1):\n",
    "    for j in range(1, k+1):\n",
    "        print(\"*\", end=\"\")\n",
    "    print()\n",
    "    k=k+2"
   ]
  },
  {
   "cell_type": "code",
   "execution_count": 8,
   "metadata": {},
   "outputs": [
    {
     "name": "stdout",
     "output_type": "stream",
     "text": [
      "    * \n",
      "   * * \n",
      "  * * * \n",
      " * * * * \n",
      "* * * * * \n"
     ]
    }
   ],
   "source": [
    "'''\n",
    "n=5\n",
    "    *\n",
    "   * *\n",
    "  * * *\n",
    " * * * *\n",
    "* * * * *\n",
    "'''\n",
    "\n",
    "n=5\n",
    "for i in range(1, n+1):\n",
    "    for j in range(1, n-i+1):\n",
    "        print(\" \",end=\"\")\n",
    "    for j in range(i):\n",
    "        print(\"*\", end=\" \")\n",
    "    print()"
   ]
  },
  {
   "cell_type": "code",
   "execution_count": 22,
   "metadata": {},
   "outputs": [
    {
     "name": "stdout",
     "output_type": "stream",
     "text": [
      "    *\n",
      "   * *\n",
      "  *   *\n",
      " *     *\n",
      "*       *\n"
     ]
    }
   ],
   "source": [
    "'''\n",
    "n=5\n",
    "    *\n",
    "   * *\n",
    "  *   *\n",
    " *     *\n",
    "*       *\n",
    "\n",
    "'''\n",
    "n=5\n",
    "k=1\n",
    "if n>=1:\n",
    "    print(' '*(n-1), end='*')\n",
    "    print()\n",
    "for i in range(2, n+1):\n",
    "    for j in range(1,n-i+1):\n",
    "        print(\" \", end=\"\")\n",
    "    print('*', end=\"\")\n",
    "    for j in range(k):\n",
    "        print(\" \",end=\"\")\n",
    "    k=k+2\n",
    "    print('*')\n",
    "    "
   ]
  },
  {
   "cell_type": "code",
   "execution_count": 26,
   "metadata": {},
   "outputs": [
    {
     "name": "stdout",
     "output_type": "stream",
     "text": [
      "    *\n",
      "   * *\n",
      "  *   *\n",
      " *     *\n",
      "*********\n"
     ]
    }
   ],
   "source": [
    "'''\n",
    "n=5\n",
    "    *\n",
    "   * *\n",
    "  *   *\n",
    " *     *\n",
    "*********\n",
    "'''\n",
    "n=5\n",
    "k=1\n",
    "if n>=1:\n",
    "    print(\" \"*(n-1),end='*\\n')\n",
    "for i in range(2,n):\n",
    "    for j in range(1, n-i+1):\n",
    "        print(\" \",end=\"\")\n",
    "    print(\"*\", end=\"\")\n",
    "    for j in range(k):\n",
    "        print(\" \",end=\"\")\n",
    "    k=k+2\n",
    "    print(\"*\")\n",
    "print(\"*\"*((2*n)-1))"
   ]
  },
  {
   "cell_type": "code",
   "execution_count": 27,
   "metadata": {},
   "outputs": [
    {
     "name": "stdout",
     "output_type": "stream",
     "text": [
      "    *\n",
      "   * *\n",
      "  *   *\n",
      " *     *\n",
      " *******"
     ]
    }
   ],
   "source": [
    "'''\n",
    "n=5\n",
    "    *\n",
    "   * *\n",
    "  *   *\n",
    " *     *\n",
    " *******\n",
    "'''\n",
    "n=5\n",
    "k=1\n",
    "if n>=1:\n",
    "    print(\" \"*(n-1),end='*\\n')\n",
    "for i in range(2,n):\n",
    "    for j in range(1, n-i+1):\n",
    "        print(\" \",end=\"\")\n",
    "    print(\"*\", end=\"\")\n",
    "    for j in range(k):\n",
    "        print(\" \",end=\"\")\n",
    "    k=k+2\n",
    "    print(\"*\")\n",
    "print(\" \", end=\"*\"*((2*n)-3))\n"
   ]
  },
  {
   "cell_type": "code",
   "execution_count": 31,
   "metadata": {},
   "outputs": [
    {
     "name": "stdout",
     "output_type": "stream",
     "text": [
      "* * * * * \n",
      " * * * * \n",
      "  * * * \n",
      "   * * \n",
      "    * \n"
     ]
    }
   ],
   "source": [
    "'''\n",
    "n=5\n",
    "* * * * *\n",
    " * * * *\n",
    "  * * *\n",
    "   * *\n",
    "    *\n",
    "'''\n",
    "\n",
    "n=5\n",
    "for i in range(1, n+1):\n",
    "    for j in range(i-1):\n",
    "        print(\" \", end=\"\")\n",
    "    for j in range(n+1-i):\n",
    "        print(\"*\", end=\" \")\n",
    "    print()\n",
    "    "
   ]
  },
  {
   "cell_type": "code",
   "execution_count": 72,
   "metadata": {},
   "outputs": [
    {
     "name": "stdout",
     "output_type": "stream",
     "text": [
      "*       *\n",
      " *     *\n",
      "  *   *\n",
      "   * *\n",
      "    *"
     ]
    }
   ],
   "source": [
    "'''\n",
    "n=5\n",
    "*       *\n",
    " *     *\n",
    "  *   *\n",
    "   * *\n",
    "    *\n",
    "'''\n",
    "n=5\n",
    "k=1\n",
    "k_l=[]\n",
    "for i in range(n-1):\n",
    "    k_l.append(k)\n",
    "    k=k+2\n",
    "# k_l.sort(reverse=True)\n",
    "# print(k_l)\n",
    "\n",
    "for i in range(1, n):\n",
    "    for j in range(i-1):\n",
    "        print(\" \", end=\"\")\n",
    "    print(\"*\", end=\"\")\n",
    "    for j in range(k_l[-1]):\n",
    "        print(\" \", end=\"\")\n",
    "    k_l = k_l[:-1]\n",
    "    print(\"*\")\n",
    "print(\" \"*(n-1), end='*')"
   ]
  },
  {
   "cell_type": "code",
   "execution_count": 36,
   "metadata": {},
   "outputs": [
    {
     "name": "stdout",
     "output_type": "stream",
     "text": [
      "****\n",
      "***\n",
      "**\n",
      "*\n"
     ]
    }
   ],
   "source": [
    "'''\n",
    "n=4\n",
    "* * * *\n",
    "* * *\n",
    "* *\n",
    "*\n",
    "'''\n",
    "\n",
    "n=4\n",
    "b=n\n",
    "for i in range(1,n+1):\n",
    "    for j in range(b):\n",
    "        print(\"*\", end=\"\")\n",
    "    b-=1\n",
    "    print()"
   ]
  },
  {
   "cell_type": "code",
   "execution_count": 42,
   "metadata": {},
   "outputs": [
    {
     "name": "stdout",
     "output_type": "stream",
     "text": [
      "    * \n",
      "   * * \n",
      "  * * * \n",
      " * * * * \n",
      "* * * * * \n",
      " * * * * \n",
      "  * * * \n",
      "   * * \n",
      "    * \n"
     ]
    }
   ],
   "source": [
    "'''\n",
    "n=4\n",
    "   *\n",
    "  * *\n",
    " * * *\n",
    "* * * *\n",
    " * * *\n",
    "  * *\n",
    "   *\n",
    "'''\n",
    "\n",
    "n=5\n",
    "for i in range(1, n+1):\n",
    "    for j in range(n-i):\n",
    "        print(\" \", end=\"\")\n",
    "    for j in range(i):\n",
    "        print(\"*\", end=\" \")\n",
    "    print()\n",
    "    \n",
    "for i in range(1,n):\n",
    "    for j in range(1,i+1):\n",
    "        print(\" \", end=\"\")\n",
    "    for j in range(n-i):\n",
    "        print(\"*\", end=\" \")\n",
    "    print()\n",
    "    "
   ]
  },
  {
   "cell_type": "code",
   "execution_count": 48,
   "metadata": {},
   "outputs": [
    {
     "name": "stdout",
     "output_type": "stream",
     "text": [
      "* * * * *  \n",
      "*       * \n",
      "*       * \n",
      "*       * \n",
      "* * * * *  \n"
     ]
    }
   ],
   "source": [
    "'''\n",
    "n=5\n",
    "* * * * *\n",
    "*       *\n",
    "*       *\n",
    "*       *\n",
    "* * * * *\n",
    "'''\n",
    "n=5\n",
    "k=0\n",
    "for i in range(1, n+1):\n",
    "    if i==1 or i==n:\n",
    "        print(\"* \"*n, end=\" \")\n",
    "        print()\n",
    "    else:\n",
    "        print(\"*\", end=\" \")\n",
    "        for j in range(n-2):\n",
    "            print(\" \", end=\" \")\n",
    "        print(\"*\", end=\" \")\n",
    "        print()\n",
    "    "
   ]
  },
  {
   "cell_type": "code",
   "execution_count": 90,
   "metadata": {},
   "outputs": [
    {
     "name": "stdout",
     "output_type": "stream",
     "text": [
      "    *\n",
      "   * *\n",
      "  *   *\n",
      " *     *\n",
      "*       *\n",
      " *     *\n",
      "  *   *\n",
      "   * *\n",
      "    *"
     ]
    }
   ],
   "source": [
    "'''\n",
    "n=3\n",
    "  *\n",
    " * *\n",
    "*   *\n",
    " * *\n",
    "  *\n",
    "'''\n",
    "\n",
    "n=5\n",
    "\n",
    "if n>=1:\n",
    "    print(\" \"*(n-1), end=\"*\\n\")\n",
    "if n>1:\n",
    "    k=1\n",
    "    for i in range(2,n+1):\n",
    "        for j in range(1,n-i+1):\n",
    "            print(\" \", end=\"\")\n",
    "        print(\"*\", end=\"\")\n",
    "        for j in range(k):\n",
    "            print(\" \", end=\"\")\n",
    "        k=k+2\n",
    "        print(\"*\")\n",
    "        \n",
    "    k=1\n",
    "    k_l=[]\n",
    "    for i in range(n-2):\n",
    "        k_l.append(k)\n",
    "        k=k+2\n",
    "    for i in range(2, n):\n",
    "        for j in range(i-1):\n",
    "            print(\" \", end=\"\")\n",
    "        print(\"*\", end=\"\")\n",
    "        for j in range(k_l[-1]):\n",
    "            print(\" \", end=\"\")\n",
    "        k_l = k_l[:-1]\n",
    "        print(\"*\")\n",
    "    print(\" \"*(n-1), end='*')\n"
   ]
  },
  {
   "cell_type": "code",
   "execution_count": 117,
   "metadata": {},
   "outputs": [
    {
     "name": "stdout",
     "output_type": "stream",
     "text": [
      "   1 \n",
      "  1 1 \n",
      " 1 2 1 \n",
      "1 3 3 1 \n"
     ]
    }
   ],
   "source": [
    "'''\n",
    "n=4\n",
    "   1\n",
    "  1 1\n",
    " 1 2 1\n",
    "1 3 3 1\n",
    "'''\n",
    "\n",
    "n=4\n",
    "res=[]\n",
    "for i in range(n):\n",
    "    res.append(11**(i))\n",
    "i=0\n",
    "for j in range(1,n+1):\n",
    "    for k in range(n-j):\n",
    "        print(\" \", end=\"\")\n",
    "    f=[]\n",
    "    for x in list(str(res[i])):\n",
    "        f.append(int(x))\n",
    "    for k in f:\n",
    "        print(k, end=\" \")\n",
    "    print()\n",
    "    i=i+1"
   ]
  },
  {
   "cell_type": "code",
   "execution_count": 127,
   "metadata": {},
   "outputs": [
    {
     "name": "stdout",
     "output_type": "stream",
     "text": [
      "*****\n",
      " ****\n",
      "  ***\n",
      "   **\n",
      "    *\n"
     ]
    }
   ],
   "source": [
    "'''\n",
    "n=3\n",
    "* * *\n",
    "  * *\n",
    "    *\n",
    "'''\n",
    "\n",
    "n=5\n",
    "b=n\n",
    "for i in range(1,n+1):\n",
    "    for j in range(i-1):\n",
    "        print(\" \",end=\"\")\n",
    "    for j in range(1,b+1):\n",
    "        print(\"*\", end=\"\")\n",
    "    print()\n",
    "    b=b-1"
   ]
  },
  {
   "cell_type": "code",
   "execution_count": 135,
   "metadata": {},
   "outputs": [
    {
     "name": "stdout",
     "output_type": "stream",
     "text": [
      "    * \n",
      "  * * \n",
      "* * * \n"
     ]
    }
   ],
   "source": [
    "'''\n",
    "n=3\n",
    "    *\n",
    "  * *\n",
    "* * *\n",
    "'''\n",
    "n=3\n",
    "b=n\n",
    "for i in range(1,n+1):\n",
    "    for j in range(n-i):\n",
    "        print(\" \",end=\" \")\n",
    "    for j in range(i):\n",
    "        print(\"*\", end=\" \")\n",
    "    print()"
   ]
  },
  {
   "cell_type": "code",
   "execution_count": 136,
   "metadata": {},
   "outputs": [
    {
     "name": "stdout",
     "output_type": "stream",
     "text": [
      "  *\n",
      " **\n",
      "***\n"
     ]
    }
   ],
   "source": [
    "'''\n",
    "n=3\n",
    "  *\n",
    " **\n",
    "***\n",
    "'''\n",
    "n=3\n",
    "b=n\n",
    "for i in range(1,n+1):\n",
    "    for j in range(n-i):\n",
    "        print(\" \",end=\"\")\n",
    "    for j in range(i):\n",
    "        print(\"*\", end=\"\")\n",
    "    print()"
   ]
  },
  {
   "cell_type": "code",
   "execution_count": 147,
   "metadata": {},
   "outputs": [
    {
     "name": "stdout",
     "output_type": "stream",
     "text": [
      "* * * * * * \n",
      "* *     * * \n",
      "*         * \n",
      "*         * \n",
      "* *     * * \n",
      "* * * * * * \n"
     ]
    }
   ],
   "source": [
    "'''\n",
    "n=3\n",
    "* * * * * *\n",
    "* *     * *\n",
    "*         *\n",
    "*         *\n",
    "* *     * *\n",
    "* * * * * *\n",
    "'''\n",
    "n=3\n",
    "b=n\n",
    "for i in range(1,n+1):\n",
    "    for j in range(1,b+1):\n",
    "        print(\"*\",end=\" \")\n",
    "    for j in range(i-1):\n",
    "        print(\" \",end=\" \")\n",
    "    for j in range(i-1):\n",
    "        print(\" \",end=\" \")\n",
    "    for j in range(1,b+1):\n",
    "        print(\"*\",end=\" \")\n",
    "    b=b-1\n",
    "    print()\n",
    "b=1\n",
    "for i in range(1,n+1):\n",
    "    for j in range(1,b+1):\n",
    "        print(\"*\",end=\" \")\n",
    "    for j in range(n-i):\n",
    "        print(\" \",end=\" \")\n",
    "    for j in range(n-i):\n",
    "        print(\" \",end=\" \")\n",
    "    for j in range(1,b+1):\n",
    "        print(\"*\",end=\" \")\n",
    "    b=b+1\n",
    "    print()\n",
    "\n",
    "        "
   ]
  },
  {
   "cell_type": "code",
   "execution_count": 180,
   "metadata": {},
   "outputs": [
    {
     "name": "stdout",
     "output_type": "stream",
     "text": [
      " *** *** \n",
      "*   *   *\n",
      "*       *\n",
      " *     *\n",
      "  *   *\n",
      "   * *\n",
      "    *\n"
     ]
    }
   ],
   "source": [
    "'''\n",
    "n=2\n",
    " ** **\n",
    "*  *  *\n",
    "*     *\n",
    " *   *\n",
    "  * *\n",
    "   *\n",
    "\n",
    "n=3\n",
    " *** ***\n",
    "*   *   *\n",
    "*       *\n",
    " *     *\n",
    "  *   *\n",
    "   * *\n",
    "    *\n",
    "'''\n",
    "n=3\n",
    "k=2*n+1\n",
    "flag=0\n",
    "for row in range(0,3):\n",
    "    for col in range(0, (((2*n)+2)+1) ):\n",
    "        if row==0:\n",
    "            flag=1\n",
    "            if col%(n+1)==0:\n",
    "                print(\" \",end=\"\")\n",
    "            else:\n",
    "                print(\"*\",end=\"\")\n",
    "        elif row==1:\n",
    "            if col%(n+1)==0:\n",
    "                print(\"*\",end=\"\")\n",
    "            else:\n",
    "                print(\" \",end=\"\")\n",
    "    if flag==1:\n",
    "        print()\n",
    "        flag=0\n",
    "print()\n",
    "for i in range(1,n+2):\n",
    "    for j in range(i-1):\n",
    "        print(\" \",end=\"\")\n",
    "    print(\"*\",end=\"\")\n",
    "    for j in range(1,k+1):\n",
    "        print(\" \",end=\"\")\n",
    "    k=k-2\n",
    "    print(\"*\")\n",
    "print(\" \"*(n+1),end=\"*\\n\")   "
   ]
  },
  {
   "cell_type": "code",
   "execution_count": 188,
   "metadata": {},
   "outputs": [
    {
     "name": "stdout",
     "output_type": "stream",
     "text": [
      " ***** ***** \n",
      "*************\n",
      "*************\n",
      " ***********\n",
      "  *********\n",
      "   *******\n",
      "    *****\n",
      "     ***\n",
      "      *\n"
     ]
    }
   ],
   "source": [
    "'''\n",
    "n=3\n",
    " *** ***\n",
    "*********\n",
    "*********\n",
    " *******\n",
    "  *****\n",
    "   ***\n",
    "    *\n",
    "'''\n",
    "n=5\n",
    "k=2*n+1\n",
    "flag=0\n",
    "for row in range(0,2):\n",
    "    for col in range(0, (((2*n)+2)+1) ):\n",
    "        if row==0:\n",
    "            flag=1\n",
    "            if col%(n+1)==0:\n",
    "                print(\" \",end=\"\")\n",
    "            else:\n",
    "                print(\"*\",end=\"\")\n",
    "        elif row==1:\n",
    "            print(\"*\",end=\"\")\n",
    "    if flag==1:\n",
    "        print()\n",
    "        flag=0\n",
    "print()\n",
    "k=2*n+3\n",
    "for i in range(1,n+2):\n",
    "    for j in range(i-1):\n",
    "        print(\" \",end=\"\")\n",
    "    for j in range(1,k+1):\n",
    "        print(\"*\",end=\"\")\n",
    "    k=k-2\n",
    "    print()\n",
    "print(\" \"*(n+1),end=\"*\\n\")   "
   ]
  },
  {
   "cell_type": "code",
   "execution_count": 198,
   "metadata": {},
   "outputs": [
    {
     "name": "stdout",
     "output_type": "stream",
     "text": [
      "     1\n",
      "    212\n",
      "   32123\n",
      "  4321234\n",
      " 543212345\n"
     ]
    }
   ],
   "source": [
    "'''\n",
    "n=4\n",
    "   1\n",
    "  212\n",
    " 32123\n",
    "4321234\n",
    "'''\n",
    "n=5\n",
    "for i in range(1,n+1):\n",
    "    for j in range(n-i+1):\n",
    "        print(\" \",end=\"\")\n",
    "    count=i\n",
    "    for j in range(count,0,-1):\n",
    "        print(j,end=\"\")\n",
    "    for j in range(2,count+1,1):\n",
    "        print(j,end=\"\")\n",
    "        count+=1\n",
    "    print()"
   ]
  },
  {
   "cell_type": "code",
   "execution_count": null,
   "metadata": {},
   "outputs": [],
   "source": [
    "'''\n",
    "   *       *\n",
    "  * *     * *\n",
    " * * *   * * *\n",
    "* * * * * * * *\n",
    "* * * * * * * *\n",
    " * * * * * * *\n",
    "  * * * * * *\n",
    "   * * * * *\n",
    "    * * * *\n",
    "     * * *\n",
    "      * *\n",
    "       *\n",
    "       \n",
    "1 2 3 4 5\n",
    "16 17 18 19 6\n",
    "15 24 25 20 7\n",
    "14 23 22 21 8\n",
    "13 12 11 10 9\n",
    "\n",
    "\n",
    "\n",
    "n=4\n",
    "1\n",
    "2 5\n",
    "3 6 8\n",
    "4 7 9 10\n",
    "\n",
    "'''\n"
   ]
  },
  {
   "cell_type": "code",
   "execution_count": 199,
   "metadata": {},
   "outputs": [
    {
     "data": {
      "text/plain": [
       "2"
      ]
     },
     "execution_count": 199,
     "metadata": {},
     "output_type": "execute_result"
    }
   ],
   "source": [
    "\n",
    "a=2\n",
    "b=3\n",
    "a&b"
   ]
  },
  {
   "cell_type": "code",
   "execution_count": 200,
   "metadata": {},
   "outputs": [
    {
     "data": {
      "text/plain": [
       "'0b10'"
      ]
     },
     "execution_count": 200,
     "metadata": {},
     "output_type": "execute_result"
    }
   ],
   "source": [
    "bin(a&b)"
   ]
  },
  {
   "cell_type": "code",
   "execution_count": 203,
   "metadata": {},
   "outputs": [
    {
     "data": {
      "text/plain": [
       "False"
      ]
     },
     "execution_count": 203,
     "metadata": {},
     "output_type": "execute_result"
    }
   ],
   "source": [
    "a=\"aa sd cd\"\n",
    "'aaa' in a"
   ]
  },
  {
   "cell_type": "code",
   "execution_count": 208,
   "metadata": {},
   "outputs": [
    {
     "data": {
      "text/plain": [
       "True"
      ]
     },
     "execution_count": 208,
     "metadata": {},
     "output_type": "execute_result"
    }
   ],
   "source": [
    "a=1\n",
    "b=1.0\n",
    "a == b"
   ]
  },
  {
   "cell_type": "code",
   "execution_count": 217,
   "metadata": {},
   "outputs": [
    {
     "data": {
      "text/plain": [
       "'\\x02'"
      ]
     },
     "execution_count": 217,
     "metadata": {},
     "output_type": "execute_result"
    }
   ],
   "source": [
    "chr(2)"
   ]
  },
  {
   "cell_type": "code",
   "execution_count": 220,
   "metadata": {},
   "outputs": [
    {
     "name": "stdout",
     "output_type": "stream",
     "text": [
      "1\n",
      "3\n",
      "5\n",
      "7\n",
      "9\n"
     ]
    }
   ],
   "source": [
    "for i in range(1,11):\n",
    "#     print(\")\")\n",
    "    if i%2==0:\n",
    "        continue\n",
    "    print(i)"
   ]
  },
  {
   "cell_type": "code",
   "execution_count": 221,
   "metadata": {},
   "outputs": [
    {
     "data": {
      "text/plain": [
       "2"
      ]
     },
     "execution_count": 221,
     "metadata": {},
     "output_type": "execute_result"
    }
   ],
   "source": [
    "ll=[1,2,3,3]\n",
    "ll.count(3)"
   ]
  },
  {
   "cell_type": "code",
   "execution_count": 227,
   "metadata": {},
   "outputs": [
    {
     "data": {
      "text/plain": [
       "'i*LL'"
      ]
     },
     "execution_count": 227,
     "metadata": {},
     "output_type": "execute_result"
    }
   ],
   "source": [
    "j='ppp'\n",
    "l='*i*LL**'\n",
    "l.strip('*')"
   ]
  },
  {
   "cell_type": "code",
   "execution_count": 234,
   "metadata": {},
   "outputs": [
    {
     "name": "stdout",
     "output_type": "stream",
     "text": [
      "Inside:  [0]\n",
      "Outside:  [10]\n"
     ]
    }
   ],
   "source": [
    "a=[10]\n",
    "def f(a):\n",
    "    a[0]=0\n",
    "    print(\"Inside: \",a)\n",
    "f(a.copy())\n",
    "print(\"Outside: \",a)\n"
   ]
  },
  {
   "cell_type": "code",
   "execution_count": 236,
   "metadata": {},
   "outputs": [
    {
     "data": {
      "text/plain": [
       "6"
      ]
     },
     "execution_count": 236,
     "metadata": {},
     "output_type": "execute_result"
    }
   ],
   "source": [
    "k=lambda a,b:a*b\n",
    "k(3,2)"
   ]
  },
  {
   "cell_type": "code",
   "execution_count": 246,
   "metadata": {},
   "outputs": [
    {
     "name": "stdout",
     "output_type": "stream",
     "text": [
      "t:  2020-07-26\n",
      "$  2020-07-26\n",
      "Weekday:  6\n",
      "Isoweekday:  7\n",
      "2020-07-28\n",
      "2020-07-24\n"
     ]
    }
   ],
   "source": [
    "import datetime\n",
    "\n",
    "t = datetime.date(2020,7,26)\n",
    "print(\"t: \",t)\n",
    "print(\"$ \",datetime.date.today())\n",
    "print(\"Weekday: \",t.weekday())\n",
    "print(\"Isoweekday: \",t.isoweekday())\n",
    "delta = datetime.timedelta(days=2)\n",
    "print(t+delta)\n",
    "print(t-delta)"
   ]
  },
  {
   "cell_type": "code",
   "execution_count": 252,
   "metadata": {},
   "outputs": [
    {
     "name": "stdout",
     "output_type": "stream",
     "text": [
      "Bday over 224 days, 0:00:00 ago\n",
      "19353600.0\n"
     ]
    }
   ],
   "source": [
    "bday= datetime.date(2019,12,15)\n",
    "till_day = datetime.date.today()-bday\n",
    "print(\"Bday over {} ago\".format(till_day))\n",
    "print(till_day.total_seconds())\n"
   ]
  },
  {
   "cell_type": "code",
   "execution_count": 265,
   "metadata": {},
   "outputs": [
    {
     "name": "stdout",
     "output_type": "stream",
     "text": [
      "9\n",
      "10\n",
      "43\n",
      "3\n",
      "2020-04-01 12:34:03.001000\n",
      "2020-07-26 20:46:06.194815\n"
     ]
    }
   ],
   "source": [
    "time = datetime.time(9,10,43,3)\n",
    "print(time.hour)\n",
    "print(time.minute)\n",
    "print(time.second)\n",
    "print(time.microsecond)\n",
    "print(datetime.datetime(2020,4,1,12,34,3,1000))\n",
    "print(datetime.datetime.today())"
   ]
  },
  {
   "cell_type": "code",
   "execution_count": 268,
   "metadata": {},
   "outputs": [
    {
     "name": "stdout",
     "output_type": "stream",
     "text": [
      "2020-07-26 20:47:48.469459\n",
      "2020-08-05 08:47:48.469459\n"
     ]
    }
   ],
   "source": [
    "q=datetime.datetime.today()\n",
    "delta = datetime.timedelta(hours=12, days=9)\n",
    "print(q)\n",
    "print(q+delta)"
   ]
  },
  {
   "cell_type": "code",
   "execution_count": 269,
   "metadata": {},
   "outputs": [
    {
     "name": "stdout",
     "output_type": "stream",
     "text": [
      "2020-07-26 20:49:53.674170\n",
      "2020-07-26 20:49:53.674169\n"
     ]
    }
   ],
   "source": [
    "print(datetime.datetime.today())\n",
    "print(datetime.datetime.now())"
   ]
  },
  {
   "cell_type": "code",
   "execution_count": 315,
   "metadata": {},
   "outputs": [
    {
     "name": "stdout",
     "output_type": "stream",
     "text": [
      "time.struct_time(tm_year=2002, tm_mon=6, tm_mday=11, tm_hour=0, tm_min=0, tm_sec=0, tm_wday=1, tm_yday=162, tm_isdst=-1)\n"
     ]
    }
   ],
   "source": [
    "print(time.strptime(\"June 11 2002\",\"%B %d %Y\"))"
   ]
  },
  {
   "cell_type": "code",
   "execution_count": 322,
   "metadata": {},
   "outputs": [
    {
     "name": "stdout",
     "output_type": "stream",
     "text": [
      "2002-06-11 00:00:00\n"
     ]
    }
   ],
   "source": [
    "print(datetime.datetime.strptime(\"6,11 2002\",\"%m,%d %Y\"))\n",
    "# k=datetime.datetime.strptime(\"6,11 2002\",\"%m,%d %Y\")\n",
    "# k.strftime(\"%Y\")"
   ]
  },
  {
   "cell_type": "code",
   "execution_count": 319,
   "metadata": {},
   "outputs": [
    {
     "name": "stdout",
     "output_type": "stream",
     "text": [
      "Tuesday, Jun 11,2002\n"
     ]
    }
   ],
   "source": [
    "s=datetime.datetime.strptime(\"June 11 2002\",\"%B %d %Y\")\n",
    "print(s.strftime(\"%A, %b %d,%Y\"))"
   ]
  },
  {
   "cell_type": "code",
   "execution_count": 308,
   "metadata": {},
   "outputs": [
    {
     "name": "stdout",
     "output_type": "stream",
     "text": [
      "1,1985\n"
     ]
    },
    {
     "data": {
      "text/plain": [
       "'Sunday'"
      ]
     },
     "execution_count": 308,
     "metadata": {},
     "output_type": "execute_result"
    }
   ],
   "source": [
    "a = input().strip().split(',')\n",
    "p=datetime.date(int(a[1]),int(a[0]),13)\n",
    "p.weekday()\n",
    "import calendar\n",
    "calendar.day_name[p.weekday()]"
   ]
  }
 ],
 "metadata": {
  "kernelspec": {
   "display_name": "Python 3",
   "language": "python",
   "name": "python3"
  },
  "language_info": {
   "codemirror_mode": {
    "name": "ipython",
    "version": 3
   },
   "file_extension": ".py",
   "mimetype": "text/x-python",
   "name": "python",
   "nbconvert_exporter": "python",
   "pygments_lexer": "ipython3",
   "version": "3.7.6"
  }
 },
 "nbformat": 4,
 "nbformat_minor": 4
}
