{
 "cells": [
  {
   "cell_type": "markdown",
   "metadata": {},
   "source": [
    "## Adjacency List"
   ]
  },
  {
   "cell_type": "code",
   "execution_count": 40,
   "metadata": {},
   "outputs": [],
   "source": [
    "class Graph:\n",
    "    \n",
    "    def __init__(self, vertices, edges):\n",
    "        self.vertices = vertices\n",
    "        self.adj_list = {}\n",
    "        for vertex in self.vertices:\n",
    "            self.adj_list[vertex] = []\n",
    "        self.add_edges(edges, self.adj_list)\n",
    "        \n",
    "    def add_edges(self, edges, adj_list):\n",
    "        for edge in edges:\n",
    "            if edge[1] not in adj_list[edge[0]]:\n",
    "                adj_list[edge[0]].append(edge[1])\n",
    "            if edge[0] not in adj_list[edge[1]]:\n",
    "                adj_list[edge[1]].append(edge[0])\n",
    "                \n",
    "    def dfs(self, source):\n",
    "        stack = []\n",
    "        visited = {}\n",
    "        for v in self.vertices:\n",
    "            visited[v] = False\n",
    "        stack.append(source)\n",
    "    \n",
    "        while(len(stack)):\n",
    "            top = stack[-1]\n",
    "            visited[top] = True\n",
    "            print(\"Stack : \",stack)\n",
    "            if self.adj_list[top]:\n",
    "                flag=0\n",
    "                for neighbour in self.adj_list[top]:\n",
    "                    if not visited[neighbour]:\n",
    "                        flag=1\n",
    "                        stack.append(neighbour)\n",
    "                        visited[neighbour]=True\n",
    "                        break\n",
    "                        \n",
    "                if flag==0:\n",
    "                    stack.pop()\n",
    "                    \n",
    "    def bfs(self, source):\n",
    "        queue = []\n",
    "        visited = {}\n",
    "        for v in self.vertices:\n",
    "            visited[v] = False\n",
    "        queue.append(source)\n",
    "        visited[source] = True\n",
    "\n",
    "        while(len(queue)):\n",
    "            top = queue[0]\n",
    "            print(\"TOP: \", top)\n",
    "            for neighbour in self.adj_list[top]:\n",
    "                print(\"neighbour: \",neighbour)\n",
    "                if not visited[neighbour]:\n",
    "                    queue.append(neighbour)\n",
    "                    visited[neighbour] = True\n",
    "                    print(\"after pushing: \", queue)\n",
    "            queue.pop(0)\n",
    "            print(\"after pop: \", queue)\n",
    "            \n",
    "    \n",
    "    def get_adj_list(self):\n",
    "        print(\"The Adjacency List is:\")\n",
    "        for v in self.adj_list:\n",
    "            print(v, \"->\", self.adj_list[v])"
   ]
  },
  {
   "cell_type": "code",
   "execution_count": 41,
   "metadata": {},
   "outputs": [
    {
     "name": "stdout",
     "output_type": "stream",
     "text": [
      "ENTER THE EDGES:\n",
      "EA,AB,BC,CD,DA\n",
      "The Adjacency List is:\n",
      "E -> ['A']\n",
      "A -> ['E', 'B', 'D']\n",
      "B -> ['A', 'C']\n",
      "C -> ['B', 'D']\n",
      "D -> ['C', 'A']\n"
     ]
    }
   ],
   "source": [
    "edges = input(\"ENTER THE EDGES:\\n\").strip().split(',')\n",
    "vertices = []\n",
    "for edge in edges:\n",
    "    if edge[0] not in vertices:\n",
    "        vertices.append(edge[0])\n",
    "    if edge[1] not in vertices:\n",
    "        vertices.append(edge[1])\n",
    "        \n",
    "g=Graph(vertices, edges)\n",
    "g.get_adj_list()"
   ]
  },
  {
   "cell_type": "code",
   "execution_count": 42,
   "metadata": {},
   "outputs": [
    {
     "name": "stdout",
     "output_type": "stream",
     "text": [
      "Enter the source vertex for DFS: A\n",
      "Stack :  ['A']\n",
      "Stack :  ['A', 'E']\n",
      "Stack :  ['A']\n",
      "Stack :  ['A', 'B']\n",
      "Stack :  ['A', 'B', 'C']\n",
      "Stack :  ['A', 'B', 'C', 'D']\n",
      "Stack :  ['A', 'B', 'C']\n",
      "Stack :  ['A', 'B']\n",
      "Stack :  ['A']\n"
     ]
    }
   ],
   "source": [
    "g.dfs(input(\"Enter the source vertex for DFS: \").strip())"
   ]
  },
  {
   "cell_type": "code",
   "execution_count": 43,
   "metadata": {},
   "outputs": [
    {
     "name": "stdout",
     "output_type": "stream",
     "text": [
      "\n",
      "Enter the source vertex for BFS: A\n",
      "TOP:  A\n",
      "neighbour:  E\n",
      "after pushing:  ['A', 'E']\n",
      "neighbour:  B\n",
      "after pushing:  ['A', 'E', 'B']\n",
      "neighbour:  D\n",
      "after pushing:  ['A', 'E', 'B', 'D']\n",
      "after pop:  ['E', 'B', 'D']\n",
      "TOP:  E\n",
      "neighbour:  A\n",
      "after pop:  ['B', 'D']\n",
      "TOP:  B\n",
      "neighbour:  A\n",
      "neighbour:  C\n",
      "after pushing:  ['B', 'D', 'C']\n",
      "after pop:  ['D', 'C']\n",
      "TOP:  D\n",
      "neighbour:  C\n",
      "neighbour:  A\n",
      "after pop:  ['C']\n",
      "TOP:  C\n",
      "neighbour:  B\n",
      "neighbour:  D\n",
      "after pop:  []\n"
     ]
    }
   ],
   "source": [
    "g.bfs(input(\"\\nEnter the source vertex for BFS: \").strip())"
   ]
  },
  {
   "cell_type": "code",
   "execution_count": 44,
   "metadata": {},
   "outputs": [],
   "source": [
    "# EA,AB,BC,CD,DA"
   ]
  },
  {
   "cell_type": "markdown",
   "metadata": {},
   "source": [
    "## Adjacency Matrix"
   ]
  },
  {
   "cell_type": "code",
   "execution_count": 57,
   "metadata": {},
   "outputs": [],
   "source": [
    "class GraphMatrix:\n",
    "    \n",
    "    def __init__(self, vertices, edges):\n",
    "        self.vertices = vertices\n",
    "        self.adj_matrix = {}\n",
    "        self.index_map = {}\n",
    "        count=0\n",
    "        for vertex in self.vertices:\n",
    "            self.adj_matrix[vertex] = []\n",
    "            self.index_map[vertex] = count\n",
    "            count+=1\n",
    "        print(\"index_map: \",self.index_map)\n",
    "        self.add_edges(edges, self.adj_matrix)\n",
    "        \n",
    "    def add_edges(self, edges, adj_matrix):\n",
    "        for edge in edges:\n",
    "            for i in range(len(self.vertices)):\n",
    "                if i==self.index_map[edge[1]]:\n",
    "                    adj_matrix[edge[0]].append(1)\n",
    "                    adj_matrix[edge[1]].append(1)\n",
    "#                 elif i==self.index_map[edge[1]]:\n",
    "#                     adj_matrix[edge[1]].append(1)\n",
    "                    \n",
    "                else:\n",
    "                    adj_matrix[edge[0]].append(0)\n",
    "\n",
    "            \n",
    "    def dfs(self, source):\n",
    "        stack = []\n",
    "        visited = {}\n",
    "        for v in self.vertices:\n",
    "            visited[v] = False\n",
    "        stack.append(source)\n",
    "    \n",
    "        while(len(stack)):\n",
    "            top = stack[-1]\n",
    "            visited[top] = True\n",
    "            print(\"Stack : \",stack)\n",
    "            if self.adj_matrix[top]:\n",
    "                flag=0\n",
    "                for neighbour in self.adj_matrix[top]:\n",
    "                    if not visited[neighbour]:\n",
    "                        flag=1\n",
    "                        stack.append(neighbour)\n",
    "                        visited[neighbour]=True\n",
    "                        break\n",
    "                        \n",
    "                if flag==0:\n",
    "                    stack.pop()\n",
    "                    \n",
    "    def bfs(self, source):\n",
    "        queue = []\n",
    "        visited = {}\n",
    "        for v in self.vertices:\n",
    "            visited[v] = False\n",
    "        queue.append(source)\n",
    "        visited[source] = True\n",
    "\n",
    "        while(len(queue)):\n",
    "            top = queue[0]\n",
    "            print(\"TOP: \", top)\n",
    "            for neighbour in self.adj_matrix[top]:\n",
    "                print(\"neighbour: \",neighbour)\n",
    "                if not visited[neighbour]:\n",
    "                    queue.append(neighbour)\n",
    "                    visited[neighbour] = True\n",
    "                    print(\"after pushing: \", queue)\n",
    "            queue.pop(0)\n",
    "            print(\"after pop: \", queue)\n",
    "            \n",
    "    \n",
    "    def get_adj_matrix(self):\n",
    "        print(\"The Adjacency matrix is:\")\n",
    "        for v in self.adj_matrix:\n",
    "            print(v, \"->\", self.adj_matrix[v])"
   ]
  },
  {
   "cell_type": "code",
   "execution_count": 58,
   "metadata": {},
   "outputs": [
    {
     "name": "stdout",
     "output_type": "stream",
     "text": [
      "ENTER THE EDGES:\n",
      "EA,AB,BC,CD,DA\n",
      "index_map:  {'E': 0, 'A': 1, 'B': 2, 'C': 3, 'D': 4}\n",
      "The Adjacency matrix is:\n",
      "E -> [1, 0, 0, 0]\n",
      "A -> [1, 0, 1, 0, 0, 1]\n",
      "B -> [1, 0, 0, 1, 0]\n",
      "C -> [1, 0, 0, 0, 1]\n",
      "D -> [1, 0, 0, 0, 1]\n"
     ]
    }
   ],
   "source": [
    "edges = input(\"ENTER THE EDGES:\\n\").strip().split(',')\n",
    "vertices = []\n",
    "for edge in edges:\n",
    "    if edge[0] not in vertices:\n",
    "        vertices.append(edge[0])\n",
    "    if edge[1] not in vertices:\n",
    "        vertices.append(edge[1])\n",
    "        \n",
    "g=GraphMatrix(vertices, edges)\n",
    "g.get_adj_matrix()"
   ]
  },
  {
   "cell_type": "code",
   "execution_count": null,
   "metadata": {},
   "outputs": [],
   "source": []
  }
 ],
 "metadata": {
  "kernelspec": {
   "display_name": "Python 3",
   "language": "python",
   "name": "python3"
  },
  "language_info": {
   "codemirror_mode": {
    "name": "ipython",
    "version": 3
   },
   "file_extension": ".py",
   "mimetype": "text/x-python",
   "name": "python",
   "nbconvert_exporter": "python",
   "pygments_lexer": "ipython3",
   "version": "3.7.6"
  }
 },
 "nbformat": 4,
 "nbformat_minor": 4
}
