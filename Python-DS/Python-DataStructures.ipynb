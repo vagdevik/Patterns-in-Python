{
 "cells": [
  {
   "cell_type": "markdown",
   "metadata": {},
   "source": [
    "# 1. Graphs"
   ]
  },
  {
   "cell_type": "markdown",
   "metadata": {},
   "source": [
    "### a. Adjacency List"
   ]
  },
  {
   "cell_type": "code",
   "execution_count": 1,
   "metadata": {},
   "outputs": [],
   "source": [
    "class Graph:\n",
    "    \n",
    "    def __init__(self, vertices, edges):\n",
    "        self.vertices = vertices\n",
    "        self.adj_list = {}\n",
    "        for vertex in self.vertices:\n",
    "            self.adj_list[vertex] = []\n",
    "        self.add_edges(edges, self.adj_list)\n",
    "        \n",
    "    def add_edges(self, edges, adj_list):\n",
    "        for edge in edges:\n",
    "            if edge[1] not in adj_list[edge[0]]:\n",
    "                adj_list[edge[0]].append(edge[1])\n",
    "            if edge[0] not in adj_list[edge[1]]:\n",
    "                adj_list[edge[1]].append(edge[0])\n",
    "                \n",
    "    def dfs(self, source):\n",
    "        stack = []\n",
    "        visited = {}\n",
    "        for v in self.vertices:\n",
    "            visited[v] = False\n",
    "        stack.append(source)\n",
    "    \n",
    "        while(len(stack)):\n",
    "            top = stack[-1]\n",
    "            visited[top] = True\n",
    "            print(\"Stack : \",stack)\n",
    "            if self.adj_list[top]:\n",
    "                flag=0\n",
    "                for neighbour in self.adj_list[top]:\n",
    "                    if not visited[neighbour]:\n",
    "                        flag=1\n",
    "                        stack.append(neighbour)\n",
    "                        visited[neighbour]=True\n",
    "                        break\n",
    "                        \n",
    "                if flag==0:\n",
    "                    stack.pop()\n",
    "                    \n",
    "    def bfs(self, source):\n",
    "        queue = []\n",
    "        visited = {}\n",
    "        for v in self.vertices:\n",
    "            visited[v] = False\n",
    "        queue.append(source)\n",
    "        visited[source] = True\n",
    "\n",
    "        while(len(queue)):\n",
    "            top = queue[0]\n",
    "            print(\"TOP: \", top)\n",
    "            for neighbour in self.adj_list[top]:\n",
    "                print(\"neighbour: \",neighbour)\n",
    "                if not visited[neighbour]:\n",
    "                    queue.append(neighbour)\n",
    "                    visited[neighbour] = True\n",
    "                    print(\"after pushing: \", queue)\n",
    "            queue.pop(0)\n",
    "            print(\"after pop: \", queue)\n",
    "            \n",
    "    \n",
    "    def get_adj_list(self):\n",
    "        print(\"The Adjacency List is:\")\n",
    "        for v in self.adj_list:\n",
    "            print(v, \"->\", self.adj_list[v])"
   ]
  },
  {
   "cell_type": "code",
   "execution_count": 2,
   "metadata": {},
   "outputs": [
    {
     "name": "stdout",
     "output_type": "stream",
     "text": [
      "ENTER THE EDGES:\n",
      "EA,AB,BC,CD,DA\n",
      "The Adjacency List is:\n",
      "E -> ['A']\n",
      "A -> ['E', 'B', 'D']\n",
      "B -> ['A', 'C']\n",
      "C -> ['B', 'D']\n",
      "D -> ['C', 'A']\n"
     ]
    }
   ],
   "source": [
    "edges = input(\"ENTER THE EDGES:\\n\").strip().split(',')\n",
    "vertices = []\n",
    "for edge in edges:\n",
    "    if edge[0] not in vertices:\n",
    "        vertices.append(edge[0])\n",
    "    if edge[1] not in vertices:\n",
    "        vertices.append(edge[1])\n",
    "        \n",
    "g=Graph(vertices, edges)\n",
    "g.get_adj_list()"
   ]
  },
  {
   "cell_type": "code",
   "execution_count": 3,
   "metadata": {},
   "outputs": [
    {
     "name": "stdout",
     "output_type": "stream",
     "text": [
      "Enter the source vertex for DFS: A\n",
      "Stack :  ['A']\n",
      "Stack :  ['A', 'E']\n",
      "Stack :  ['A']\n",
      "Stack :  ['A', 'B']\n",
      "Stack :  ['A', 'B', 'C']\n",
      "Stack :  ['A', 'B', 'C', 'D']\n",
      "Stack :  ['A', 'B', 'C']\n",
      "Stack :  ['A', 'B']\n",
      "Stack :  ['A']\n"
     ]
    }
   ],
   "source": [
    "g.dfs(input(\"Enter the source vertex for DFS: \").strip())"
   ]
  },
  {
   "cell_type": "code",
   "execution_count": 9,
   "metadata": {},
   "outputs": [
    {
     "name": "stdout",
     "output_type": "stream",
     "text": [
      "Enter the source vertex for BFS: A\n",
      "TOP:  A\n",
      "neighbour:  E\n",
      "after pushing:  ['A', 'E']\n",
      "neighbour:  B\n",
      "after pushing:  ['A', 'E', 'B']\n",
      "neighbour:  D\n",
      "after pushing:  ['A', 'E', 'B', 'D']\n",
      "after pop:  ['E', 'B', 'D']\n",
      "TOP:  E\n",
      "neighbour:  A\n",
      "after pop:  ['B', 'D']\n",
      "TOP:  B\n",
      "neighbour:  A\n",
      "neighbour:  C\n",
      "after pushing:  ['B', 'D', 'C']\n",
      "after pop:  ['D', 'C']\n",
      "TOP:  D\n",
      "neighbour:  C\n",
      "neighbour:  A\n",
      "after pop:  ['C']\n",
      "TOP:  C\n",
      "neighbour:  B\n",
      "neighbour:  D\n",
      "after pop:  []\n"
     ]
    }
   ],
   "source": [
    "g.bfs(input(\"Enter the source vertex for BFS: \").strip())"
   ]
  },
  {
   "cell_type": "code",
   "execution_count": 5,
   "metadata": {},
   "outputs": [],
   "source": [
    "# EA,AB,BC,CD,DA"
   ]
  },
  {
   "cell_type": "markdown",
   "metadata": {},
   "source": [
    "### b. Adjacency Matrix"
   ]
  },
  {
   "cell_type": "code",
   "execution_count": 12,
   "metadata": {},
   "outputs": [],
   "source": [
    "class GraphMatrix:\n",
    "    \n",
    "    def __init__(self, vertices, edges):\n",
    "        self.vertices = vertices\n",
    "        self.adj_matrix = {}\n",
    "        dic = {}\n",
    "        for v in self.vertices:\n",
    "            dic[v]= 0\n",
    "        for vertex in self.vertices:\n",
    "            self.adj_matrix[vertex] = dic.copy()\n",
    "        self.add_edges(edges)\n",
    "        \n",
    "    def add_edges(self, edges):\n",
    "        for edge in edges:\n",
    "            self.adj_matrix[edge[0]][edge[1]] = 1\n",
    "            self.adj_matrix[edge[1]][edge[0]] = 1\n",
    "\n",
    "    def dfs(self, source):\n",
    "        stack = []\n",
    "        visited = {}\n",
    "        for v in self.vertices:\n",
    "            visited[v] = False\n",
    "        stack.append(source)\n",
    "    \n",
    "        while(len(stack)):\n",
    "            top = stack[-1]\n",
    "            visited[top] = True\n",
    "            print(\"Stack : \",stack)\n",
    "            if self.adj_matrix[top]:\n",
    "                flag=0\n",
    "                for neighbour in self.adj_matrix[top]:\n",
    "                    if self.adj_matrix[top][neighbour]==1:\n",
    "                        if not visited[neighbour]:\n",
    "                            flag=1\n",
    "                            stack.append(neighbour)\n",
    "                            visited[neighbour]=True\n",
    "                            break\n",
    "                        \n",
    "                if flag==0:\n",
    "                    stack.pop()\n",
    "                    \n",
    "    def bfs(self, source):\n",
    "        queue = []\n",
    "        visited = {}\n",
    "        for v in self.vertices:\n",
    "            visited[v] = False\n",
    "        queue.append(source)\n",
    "        visited[source] = True\n",
    "\n",
    "        while(len(queue)):\n",
    "            top = queue[0]\n",
    "            print(\"TOP: \", top)\n",
    "            for neighbour in self.adj_matrix[top]:\n",
    "                if self.adj_matrix[top][neighbour]==1:\n",
    "                    print(\"neighbour: \",neighbour)\n",
    "                    if not visited[neighbour]:\n",
    "                        queue.append(neighbour)\n",
    "                        visited[neighbour] = True\n",
    "                        print(\"after pushing: \", queue)\n",
    "            queue.pop(0)\n",
    "            print(\"after pop: \", queue)\n",
    "            \n",
    "    \n",
    "    def get_adj_matrix(self):\n",
    "        print(\"The Adjacency matrix is:\")\n",
    "        for v in self.adj_matrix:\n",
    "            print(v, \"->\", self.adj_matrix[v])"
   ]
  },
  {
   "cell_type": "code",
   "execution_count": 13,
   "metadata": {},
   "outputs": [
    {
     "name": "stdout",
     "output_type": "stream",
     "text": [
      "ENTER THE EDGES:\n",
      "EA,AB,BC,CD,DA\n",
      "The Adjacency matrix is:\n",
      "E -> {'E': 0, 'A': 1, 'B': 0, 'C': 0, 'D': 0}\n",
      "A -> {'E': 1, 'A': 0, 'B': 1, 'C': 0, 'D': 1}\n",
      "B -> {'E': 0, 'A': 1, 'B': 0, 'C': 1, 'D': 0}\n",
      "C -> {'E': 0, 'A': 0, 'B': 1, 'C': 0, 'D': 1}\n",
      "D -> {'E': 0, 'A': 1, 'B': 0, 'C': 1, 'D': 0}\n"
     ]
    }
   ],
   "source": [
    "edges = input(\"ENTER THE EDGES:\\n\").strip().split(',')\n",
    "vertices = []\n",
    "for edge in edges:\n",
    "    if edge[0] not in vertices:\n",
    "        vertices.append(edge[0])\n",
    "    if edge[1] not in vertices:\n",
    "        vertices.append(edge[1])\n",
    "        \n",
    "gm=GraphMatrix(vertices, edges)\n",
    "gm.get_adj_matrix()"
   ]
  },
  {
   "cell_type": "code",
   "execution_count": 14,
   "metadata": {},
   "outputs": [
    {
     "name": "stdout",
     "output_type": "stream",
     "text": [
      "Enter the source vertex for DFS: A\n",
      "Stack :  ['A']\n",
      "Stack :  ['A', 'E']\n",
      "Stack :  ['A']\n",
      "Stack :  ['A', 'B']\n",
      "Stack :  ['A', 'B', 'C']\n",
      "Stack :  ['A', 'B', 'C', 'D']\n",
      "Stack :  ['A', 'B', 'C']\n",
      "Stack :  ['A', 'B']\n",
      "Stack :  ['A']\n"
     ]
    }
   ],
   "source": [
    "gm.dfs(input(\"Enter the source vertex for DFS: \").strip())"
   ]
  },
  {
   "cell_type": "code",
   "execution_count": 15,
   "metadata": {},
   "outputs": [
    {
     "name": "stdout",
     "output_type": "stream",
     "text": [
      "Enter the source vertex for BFS: A\n",
      "TOP:  A\n",
      "neighbour:  E\n",
      "after pushing:  ['A', 'E']\n",
      "neighbour:  B\n",
      "after pushing:  ['A', 'E', 'B']\n",
      "neighbour:  D\n",
      "after pushing:  ['A', 'E', 'B', 'D']\n",
      "after pop:  ['E', 'B', 'D']\n",
      "TOP:  E\n",
      "neighbour:  A\n",
      "after pop:  ['B', 'D']\n",
      "TOP:  B\n",
      "neighbour:  A\n",
      "neighbour:  C\n",
      "after pushing:  ['B', 'D', 'C']\n",
      "after pop:  ['D', 'C']\n",
      "TOP:  D\n",
      "neighbour:  A\n",
      "neighbour:  C\n",
      "after pop:  ['C']\n",
      "TOP:  C\n",
      "neighbour:  B\n",
      "neighbour:  D\n",
      "after pop:  []\n"
     ]
    }
   ],
   "source": [
    "gm.bfs(input(\"Enter the source vertex for BFS: \").strip())"
   ]
  },
  {
   "cell_type": "markdown",
   "metadata": {},
   "source": [
    "# 2. Trees"
   ]
  },
  {
   "cell_type": "code",
   "execution_count": 63,
   "metadata": {},
   "outputs": [],
   "source": [
    "class Node:\n",
    "    def __init__(self, name, children):\n",
    "        self.emp = name\n",
    "        self.children = []\n",
    "        for child in children:\n",
    "            self.children.append(child)\n",
    "        self.parent=None\n",
    "            \n",
    "    def get_level(self):\n",
    "        \n",
    "    \n",
    "    def __str__(self):\n",
    "        return self.emp+\" manages \"+str(self.children)\n",
    "        "
   ]
  },
  {
   "cell_type": "code",
   "execution_count": 64,
   "metadata": {},
   "outputs": [],
   "source": [
    "class Tree:\n",
    "    def __init__(self, data):\n",
    "        self.heirarchy = data\n",
    "        self.nodes=[]\n",
    "        self.get_tree(data)\n",
    "        \n",
    "    def get_tree(self,data):\n",
    "        for node_data in data:\n",
    "            emp = Node(node_data, data[node_data], )\n",
    "            self.nodes.append(emp)\n",
    "        \n",
    "        \n",
    "    def get_nodes(self):\n",
    "        for i in self.nodes:\n",
    "            print(i)"
   ]
  },
  {
   "cell_type": "code",
   "execution_count": 65,
   "metadata": {},
   "outputs": [
    {
     "name": "stdout",
     "output_type": "stream",
     "text": [
      "4 manages ['1', '3']\n",
      "3 manages ['2', '5']\n",
      "root manages ['4']\n"
     ]
    }
   ],
   "source": [
    "import csv\n",
    "heirarchy_dict={}\n",
    "with open('emp.txt','r') as csv_file:\n",
    "    csv_reader = csv.reader(csv_file, delimiter=',')\n",
    "    catch_heading = 0\n",
    "    \n",
    "    for row in csv_reader:\n",
    "        if catch_heading==0:\n",
    "            catch_heading=1\n",
    "            continue\n",
    "        if row[1]!='':\n",
    "            if row[1] in heirarchy_dict:\n",
    "                heirarchy_dict[row[1]].append(row[0])\n",
    "            else:\n",
    "                heirarchy_dict[row[1]]=[row[0]]\n",
    "        else:\n",
    "            if row[1] in heirarchy_dict:\n",
    "                heirarchy_dict['root'].append(row[0])\n",
    "            else:\n",
    "                heirarchy_dict['root']=[row[0]]\n",
    "\n",
    "t = Tree(heirarchy_dict)\n",
    "t.get_nodes()"
   ]
  },
  {
   "cell_type": "code",
   "execution_count": null,
   "metadata": {},
   "outputs": [],
   "source": []
  },
  {
   "cell_type": "code",
   "execution_count": null,
   "metadata": {},
   "outputs": [],
   "source": []
  },
  {
   "cell_type": "code",
   "execution_count": 46,
   "metadata": {},
   "outputs": [],
   "source": [
    "class Node:\n",
    "    def __init__(self, empid):\n",
    "        self.id = empid\n",
    "        self.children=[]\n",
    "        self.man=None\n",
    "            \n",
    "    def get_level(self):\n",
    "        level=0\n",
    "        p=self.man\n",
    "        while p:\n",
    "            level+=1\n",
    "            p = p.man\n",
    "        return level\n",
    "    \n",
    "    def print_heirarchy(self):\n",
    "        spaces = ' ' * self.get_level()*3\n",
    "        prefix = spaces + \"|__\" if self.man else \"\"\n",
    "        print(prefix + self.id)\n",
    "        if self.children:\n",
    "            for child in self.children:\n",
    "                child.print_heirarchy()\n",
    "    \n",
    "    def __str__(self):\n",
    "        try:\n",
    "            return self.id\n",
    "        except:\n",
    "            return self.man+\" manages all\""
   ]
  },
  {
   "cell_type": "code",
   "execution_count": 47,
   "metadata": {},
   "outputs": [],
   "source": [
    "class Tree:\n",
    "    def __init__(self):\n",
    "        self.nodes_list=[]\n",
    "        self.root=None\n",
    "        \n",
    "    def print_tree(self):\n",
    "        self.root.print_heirarchy()\n",
    "        "
   ]
  },
  {
   "cell_type": "code",
   "execution_count": 48,
   "metadata": {},
   "outputs": [
    {
     "name": "stdout",
     "output_type": "stream",
     "text": [
      "5\n",
      "   |__4\n",
      "      |__1\n",
      "         |__3\n",
      "         |__6\n",
      "      |__2\n",
      "      |__8\n",
      "         |__9\n",
      "         |__10\n",
      "      |__2\n",
      "   |__7\n"
     ]
    }
   ],
   "source": [
    "import csv\n",
    "t = Tree()\n",
    "with open('emp2.txt','r') as csv_file:\n",
    "    csv_reader = csv.reader(csv_file, delimiter=',')\n",
    "    catch_heading = 0\n",
    "    \n",
    "    for row in csv_reader:\n",
    "        if row[1]!='':\n",
    "            if catch_heading==0:\n",
    "                catch_heading=1\n",
    "                continue\n",
    "            flag_node = 0\n",
    "            flag_parent = 0\n",
    "            if t.nodes_list:\n",
    "                for i,node in enumerate(t.nodes_list):\n",
    "                    if node.id==row[0]:\n",
    "                        flag_node=1\n",
    "                        i_node = i\n",
    "                    if node.id==row[1]:\n",
    "                        flag_parent = 1\n",
    "                        parent_index = i\n",
    "            if flag_node and flag_parent:\n",
    "                node = t.nodes_list[i_node]\n",
    "                parent = t.nodes_list[parent_index]\n",
    "            elif flag_node:\n",
    "                node = t.nodes_list[i_node]\n",
    "                parent = Node(row[1])\n",
    "                t.nodes_list.append(parent)\n",
    "            elif flag_parent:\n",
    "                node = Node(row[0])\n",
    "                parent = t.nodes_list[parent_index]\n",
    "                t.nodes_list.append(node)\n",
    "            else:\n",
    "                node = Node(row[0])\n",
    "                parent = Node(row[1])\n",
    "                t.nodes_list.append(node)\n",
    "                t.nodes_list.append(parent)\n",
    "            parent.children.append(node)\n",
    "            node.man=parent \n",
    "        else:\n",
    "            for n in t.nodes_list:\n",
    "                if n.id==row[0]:\n",
    "                    t.root = n\n",
    "                    break\n",
    "t.print_tree()"
   ]
  },
  {
   "cell_type": "code",
   "execution_count": null,
   "metadata": {},
   "outputs": [],
   "source": []
  },
  {
   "cell_type": "code",
   "execution_count": null,
   "metadata": {},
   "outputs": [],
   "source": []
  }
 ],
 "metadata": {
  "kernelspec": {
   "display_name": "Python 3",
   "language": "python",
   "name": "python3"
  },
  "language_info": {
   "codemirror_mode": {
    "name": "ipython",
    "version": 3
   },
   "file_extension": ".py",
   "mimetype": "text/x-python",
   "name": "python",
   "nbconvert_exporter": "python",
   "pygments_lexer": "ipython3",
   "version": "3.7.6"
  }
 },
 "nbformat": 4,
 "nbformat_minor": 4
}
